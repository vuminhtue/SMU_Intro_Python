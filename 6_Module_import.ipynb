{
 "cells": [
  {
   "cell_type": "markdown",
   "id": "3cdcb19a-06ef-438f-abda-96d46f846e82",
   "metadata": {},
   "source": [
    "# Introduction to Python for Scientific Computing using M3\n",
    "\n",
    "## Tue Vu, PhD\n",
    "**AI & ML Research Scientist;**\n",
    " \n",
    "**Advanced Research Computing & Data Science, SMU OIT**\n"
   ]
  },
  {
   "cell_type": "markdown",
   "id": "bcfa8d67-88fe-4e91-835c-2c6e435791a6",
   "metadata": {},
   "source": [
    "### 6. Modules, import and conda environment\n",
    "\n",
    "\n",
    "Everything we have done so far has used built-in data types and functions.  But a huge part of the power of Python is the availability of external packages and libraries that we can **import** into our program to have access to their functionality.\n",
    "\n",
    "In Python terminology, the object that we import is a **module**, and objects in that module can be accessed with the dot operator (as we do with other objects).\n",
    "\n"
   ]
  },
  {
   "cell_type": "code",
   "execution_count": null,
   "id": "2dbecec1-3607-40b8-b78b-bc4020cc3201",
   "metadata": {},
   "outputs": [],
   "source": [
    "import string\n",
    "print(string.ascii_letters)\n"
   ]
  },
  {
   "cell_type": "code",
   "execution_count": null,
   "id": "b332b531-e041-4d75-800a-5c17528de5ea",
   "metadata": {},
   "outputs": [],
   "source": [
    "from math import pi\n",
    "print(pi)"
   ]
  },
  {
   "cell_type": "markdown",
   "id": "cce9fcae-19ad-40bf-9b06-98c9462007a1",
   "metadata": {},
   "source": [
    "#### Importing your own modules\n",
    "You can import your own written module, written in your file: ```myfile.py``` that contains your functions. \n",
    "\n",
    "    import myfile\n",
    "    myfile.function1()\n",
    "\n",
    "Note ```myfile.py``` is in your Python ```sys.path```"
   ]
  },
  {
   "cell_type": "markdown",
   "id": "7c1da31e-4206-4e4f-969a-70187ff1419f",
   "metadata": {},
   "source": [
    "#### Conda environment\n",
    "\n",
    "There are many other modules that not available when you install python. Therefore you need to install it. \n",
    "\n",
    "However, the default environment prohibits you to install any available package to shared common place in our HPC system.\n",
    "\n",
    "Therefore, you need to create your own conda environment, save it under your home directory and install module on it.\n",
    "\n",
    "Here is the instruction to create conda env and install the kernel to make it available on Jupyter Lab:\n",
    "\n",
    "\n"
   ]
  },
  {
   "cell_type": "markdown",
   "id": "3bd7ea4b-8277-4209-8199-4a909ba9f4ad",
   "metadata": {},
   "source": [
    "- Go to Terminal. From hpc.smu.edu, you can click on cluster\\ManeFrame II Shell access or Terminal from existing node\n",
    "- Requesting a compute node if you do not have one\n",
    "```\n",
    "srun -N1 -c5 --mem=16G --time=1:00:00 --pty $SHELL\n",
    "```\n",
    "- Load conda module\n",
    "```\n",
    "module load conda\n",
    "```\n",
    "\n",
    "- Create conda environment:\n",
    "```\n",
    "conda env create -n myenv python=3.8 --y\n",
    "```\n",
    "\n",
    "- After done, activate the newly created environment\n",
    "```\n",
    "source/conda activate myenv\n",
    "```\n",
    "\n",
    "- Install any library that you want:\n",
    "```\n",
    "pip install seaborn\n",
    "conda install jupyter\n",
    "```\n",
    "\n",
    "- Create kernel for Jupyter Notebook\n",
    "\n",
    "```\n",
    "python -m ipykernel install --user --name myenv --display-name \"MyENV\"\n",
    "```"
   ]
  },
  {
   "cell_type": "code",
   "execution_count": null,
   "id": "ce8c217c-a8c9-4944-a439-560697d7af4e",
   "metadata": {},
   "outputs": [],
   "source": []
  }
 ],
 "metadata": {
  "kernelspec": {
   "display_name": "Python 3 (ipykernel)",
   "language": "python",
   "name": "python3"
  },
  "language_info": {
   "codemirror_mode": {
    "name": "ipython",
    "version": 3
   },
   "file_extension": ".py",
   "mimetype": "text/x-python",
   "name": "python",
   "nbconvert_exporter": "python",
   "pygments_lexer": "ipython3",
   "version": "3.9.16"
  }
 },
 "nbformat": 4,
 "nbformat_minor": 5
}
