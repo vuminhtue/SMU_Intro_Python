{
 "cells": [
  {
   "cell_type": "markdown",
   "metadata": {},
   "source": [
    "# Introduction to Python for Scientific Computing using M3\n",
    "\n",
    "## Tue Vu, PhD\n",
    "**AI & ML Research Scientist;**\n",
    " \n",
    "**Advanced Research Computing & Data Science, SMU OIT**"
   ]
  },
  {
   "cell_type": "markdown",
   "metadata": {},
   "source": [
    "## 2. Variables, types, operators\n",
    "### 2.1 Assigning Variables\n",
    "To assign variable in python, we use ```=``` sign"
   ]
  },
  {
   "cell_type": "code",
   "execution_count": null,
   "metadata": {},
   "outputs": [],
   "source": [
    "str1 = \"This is a string\"\n",
    "print(str1)"
   ]
  },
  {
   "cell_type": "code",
   "execution_count": null,
   "metadata": {},
   "outputs": [],
   "source": [
    "five = 5\n",
    "print(five)"
   ]
  },
  {
   "cell_type": "code",
   "execution_count": null,
   "metadata": {},
   "outputs": [],
   "source": [
    "one = five - 4\n",
    "print(one + one)"
   ]
  },
  {
   "cell_type": "code",
   "execution_count": null,
   "metadata": {},
   "outputs": [],
   "source": [
    "five_square = 5**2\n",
    "print(five_square)"
   ]
  },
  {
   "cell_type": "code",
   "execution_count": null,
   "metadata": {},
   "outputs": [],
   "source": [
    "print(str1, five_square)"
   ]
  },
  {
   "cell_type": "markdown",
   "metadata": {},
   "source": [
    "### 2.2 Data types\n",
    "Python provides a number of built-in data types.\n",
    "\n",
    "- int (integer)\n",
    "- float (floating point)\n",
    "- bool (True or False)\n",
    "- complex (complex numbers), e.g., 3 + 4j\n",
    "- str (string), e.g., \"message\", '3.14159'\n",
    "- None: null value"
   ]
  },
  {
   "cell_type": "markdown",
   "metadata": {},
   "source": [
    "#### Integer\n",
    "Integers are represented in Python as ```int```. They are always whole numbers and support numerical representation."
   ]
  },
  {
   "cell_type": "code",
   "execution_count": null,
   "metadata": {},
   "outputs": [],
   "source": [
    "print(five)\n",
    "type(five)"
   ]
  },
  {
   "cell_type": "markdown",
   "metadata": {},
   "source": [
    "#### Floats\n",
    "Floats are similar to integers and are represented in Python as ```float```. They support mathematical operations as well."
   ]
  },
  {
   "cell_type": "code",
   "execution_count": null,
   "metadata": {},
   "outputs": [],
   "source": [
    "print(five*1.1)\n",
    "type(five*1.1)"
   ]
  },
  {
   "cell_type": "markdown",
   "metadata": {},
   "source": [
    "#### Booleans\n",
    "Booleans (type ```bool```) are represented natively in Python by ```True``` and ```False```. Be aware that other types can represent true or false (often named truthy values) like 1 and 0. This is especially critical to grasp when working with conditionals"
   ]
  },
  {
   "cell_type": "code",
   "execution_count": null,
   "metadata": {},
   "outputs": [],
   "source": [
    "print(five < 6)\n",
    "type(five<6)\n"
   ]
  },
  {
   "cell_type": "markdown",
   "metadata": {},
   "source": [
    "#### Complex number \n",
    "Most general-purpose programming languages have either no support or limited support for complex numbers. Python is a rare exception because it comes with complex numbers built in."
   ]
  },
  {
   "cell_type": "code",
   "execution_count": null,
   "metadata": {},
   "outputs": [],
   "source": [
    "print(complex(five,4))\n",
    "print(type(complex(five,4)))\n"
   ]
  },
  {
   "cell_type": "markdown",
   "metadata": {},
   "source": [
    "#### String\n",
    "\n",
    "- Defined with ```'``` or ```\"```\n",
    "- cannot be modified\n",
    "- have lots of useful methods, for example ```split```"
   ]
  },
  {
   "cell_type": "code",
   "execution_count": null,
   "metadata": {},
   "outputs": [],
   "source": [
    "first_name = 'Tue '\n",
    "last_name = \"Vu\"\n",
    "type(first_name)\n"
   ]
  },
  {
   "cell_type": "code",
   "execution_count": null,
   "metadata": {},
   "outputs": [],
   "source": [
    "first_name[2]"
   ]
  },
  {
   "cell_type": "code",
   "execution_count": null,
   "metadata": {},
   "outputs": [],
   "source": [
    "print(\"Your instructor today is \"+first_name,last_name)"
   ]
  },
  {
   "cell_type": "markdown",
   "metadata": {},
   "source": [
    "Replace a {variable} in string using ```f-strings``` and ```{}``` "
   ]
  },
  {
   "cell_type": "code",
   "execution_count": null,
   "metadata": {},
   "outputs": [],
   "source": [
    "str2 = f\"Your instructor today is {first_name}\"\n",
    "print(str2)"
   ]
  },
  {
   "cell_type": "code",
   "execution_count": null,
   "metadata": {},
   "outputs": [],
   "source": [
    "str2.split()"
   ]
  },
  {
   "cell_type": "markdown",
   "metadata": {},
   "source": [
    "#### None\n",
    "```None``` indicates a null value. Its type is ```NoneType``` and you might encounter it when running functions that don't return anything. However, you can still assign a ```None``` to variables."
   ]
  },
  {
   "cell_type": "code",
   "execution_count": null,
   "metadata": {},
   "outputs": [],
   "source": [
    "a = None\n",
    "print(a)\n",
    "type(a)"
   ]
  },
  {
   "cell_type": "markdown",
   "metadata": {},
   "source": [
    "### 2.3 Operators\n",
    "\n",
    "\n",
    "| Operator    |    Operation    |    Example 1   | Example 2 |\n",
    "|--------|-----------|-------------------|-----------------|\n",
    "| + | Addition | 1 + 1 &rarr; 2 |1 + 1.0 &rarr; 2.0 |\n",
    "| - | Subtraction | 5 - 3 &rarr; 2 |5 - 3.0 &rarr; 2.0  |\n",
    "| * | Multiplication | 5 * 2 &rarr; 10 |5 * 2.0 &rarr; 10.0   |\n",
    "| / | Division | 4 / 2 &rarr; 2.0 |4.0 / 2 &rarr; 2.0  |\n",
    "| ** | Exponentiation (power) | 2 ** 3 &rarr; 8 |2.0 ** 3 &rarr; 8.0 |\n",
    "| % | Moduler (remainder) | 5 % 2 &rarr; 1 |5.0 % 2 &rarr; 1.0 |\n",
    "| // | Floor division | 5 // 2 &rarr; 2 | 5.0 // 2 &rarr; 2.0 |\n"
   ]
  },
  {
   "cell_type": "code",
   "execution_count": null,
   "metadata": {},
   "outputs": [],
   "source": []
  },
  {
   "cell_type": "markdown",
   "metadata": {},
   "source": [
    "\n",
    "#### Concatenation for operators\n",
    "\n",
    "Operators have been \"overloaded\" to allow operations in other contexts deemed meaningful, e.g., \n",
    "\n",
    "```'ABC' + '123'``` &rarr; ```'ABC123'```   # string concatenation\n",
    "\n",
    "```[1,2,3] + [4,5,6]``` &rarr; ```[1,2,3,4,5,6]```   # list concatenation\n",
    "\n",
    "```'ABC' * 3``` &rarr; ```'ABCABCABC'```  # string repetition\n",
    "\n",
    "```[1,2,3] * 3``` &rarr; ```[1, 2, 3, 1, 2, 3, 1, 2, 3]```   # list repetition\n",
    "\n",
    "```set1 - set2```    # return all elements in set1 not in set2\n",
    "\n"
   ]
  },
  {
   "cell_type": "code",
   "execution_count": null,
   "metadata": {},
   "outputs": [],
   "source": []
  },
  {
   "cell_type": "markdown",
   "metadata": {},
   "source": [
    "### Relation\n",
    "\n",
    "| Operator    |    Operation    |    Example |\n",
    "|--------|-----------|-------------------|\n",
    "| == | Equality test | 1 == 1 |\n",
    "| != | Not equal test | 1 != 2 |\n",
    "| < | Less than | 1 < 2 |\n",
    "| > | Greater than | 2 > 1 |\n",
    "| <= | Less than or equal to | 2 <= 2 |\n",
    "| >= | Greater than or equal to | 3 >= 2 |\n",
    "| not | Negation | not False |\n",
    "| and | Logical and | (1 == 1) and (3 > 2) |\n",
    "| or  | Logical or | (2 < 5) or (3 < 1) |\n"
   ]
  },
  {
   "cell_type": "code",
   "execution_count": null,
   "metadata": {},
   "outputs": [],
   "source": []
  }
 ],
 "metadata": {
  "kernelspec": {
   "display_name": "Python 3 (ipykernel)",
   "language": "python",
   "name": "python3"
  },
  "language_info": {
   "codemirror_mode": {
    "name": "ipython",
    "version": 3
   },
   "file_extension": ".py",
   "mimetype": "text/x-python",
   "name": "python",
   "nbconvert_exporter": "python",
   "pygments_lexer": "ipython3",
   "version": "3.9.16"
  }
 },
 "nbformat": 4,
 "nbformat_minor": 4
}
