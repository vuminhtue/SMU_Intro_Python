{
 "cells": [
  {
   "cell_type": "markdown",
   "metadata": {},
   "source": [
    "# Introduction to Python for Scientific Computing\n",
    "\n",
    "## Tue Vu, PhD\n",
    "**AI & ML Research Scientist**\n",
    "\n",
    "**Advanced Research Computing & Data Science, SMU OIT**\n"
   ]
  },
  {
   "cell_type": "markdown",
   "metadata": {},
   "source": [
    "### 8. Pandas\n",
    "\n",
    "- Pandas[https://pandas.pydata.org/] stands for “Python and data analysis” and “panel data”.\n",
    "\n",
    "- Pandas is an open source Python library specialize in data structures and operations for the manipulation of numerical tables and time series\n",
    "\n",
    "- Pandas is a fast, powerful, flexible and easy to use open source data analysis and manipulation tool, it is built on top of the Python programming language.\n",
    "\n",
    "- To use pandas, one needs to install and import it into the library\n",
    "\n",
    "        pip install pandas\n",
    "        import pandas as pd\n",
    "    "
   ]
  },
  {
   "cell_type": "code",
   "execution_count": null,
   "metadata": {},
   "outputs": [],
   "source": [
    "import pandas as pd # imports pandas, but calls it pd\n",
    "import numpy as np"
   ]
  },
  {
   "cell_type": "markdown",
   "metadata": {},
   "source": [
    "#### 8.1 Pandas Series\n",
    "Pandas Series is a multidimensional numpy array with array index on the first column and array value on the second column"
   ]
  },
  {
   "cell_type": "code",
   "execution_count": null,
   "metadata": {},
   "outputs": [],
   "source": [
    "s1 = pd.Series([5,4,3,2,1,0])\n",
    "s1"
   ]
  },
  {
   "cell_type": "markdown",
   "metadata": {},
   "source": [
    "To retrieve index and its values:"
   ]
  },
  {
   "cell_type": "code",
   "execution_count": null,
   "metadata": {},
   "outputs": [],
   "source": [
    "print(s1.index)\n",
    "print(s1.values)\n",
    "print(type(s1.index))\n",
    "print(type(s1.values))"
   ]
  },
  {
   "cell_type": "markdown",
   "metadata": {},
   "source": [
    "The index can be changed for more meaning full Series:"
   ]
  },
  {
   "cell_type": "code",
   "execution_count": null,
   "metadata": {},
   "outputs": [],
   "source": [
    "s1.index=['Tiger','Cow','Polar Bear','Mustang','Lion','Dragon']\n",
    "s1"
   ]
  },
  {
   "cell_type": "markdown",
   "metadata": {},
   "source": [
    "Or a new pandas Series can be created using index:\n",
    "\n"
   ]
  },
  {
   "cell_type": "code",
   "execution_count": null,
   "metadata": {},
   "outputs": [],
   "source": [
    "s2 = pd.Series([1,2,3,4,5,6],index=s1.index)\n",
    "s2"
   ]
  },
  {
   "cell_type": "markdown",
   "metadata": {},
   "source": [
    "One can add/manipulate the 2 Series if they have similar index:"
   ]
  },
  {
   "cell_type": "code",
   "execution_count": null,
   "metadata": {},
   "outputs": [],
   "source": [
    "s3 = s1*s2\n",
    "s3"
   ]
  },
  {
   "cell_type": "markdown",
   "metadata": {},
   "source": [
    "To access index of a Series:\n",
    "\n"
   ]
  },
  {
   "cell_type": "code",
   "execution_count": null,
   "metadata": {},
   "outputs": [],
   "source": [
    "print(s3[\"Mustang\"]) # using index namge\n",
    "print(s3[3])         # using index number\n",
    "print(s3.iloc[3])    # using index location\n",
    "print(s3[s3>5])      # using filter"
   ]
  },
  {
   "cell_type": "code",
   "execution_count": null,
   "metadata": {},
   "outputs": [],
   "source": [
    "# Insert an index value\n",
    "s3['Nothing'] = np.nan\n",
    "s3"
   ]
  },
  {
   "cell_type": "code",
   "execution_count": null,
   "metadata": {},
   "outputs": [],
   "source": [
    "# Catch a null value\n",
    "s3.isnull()"
   ]
  },
  {
   "cell_type": "markdown",
   "metadata": {},
   "source": [
    "Working with nul value:"
   ]
  },
  {
   "cell_type": "code",
   "execution_count": null,
   "metadata": {},
   "outputs": [],
   "source": [
    "# Assign null value with a constant\n",
    "s3[s3.isnull()]=1\n",
    "s3.fillna(1)\n",
    "\n",
    "# Drop null value\n",
    "s3.dropna()"
   ]
  },
  {
   "cell_type": "markdown",
   "metadata": {},
   "source": [
    "Apply function over Series"
   ]
  },
  {
   "cell_type": "code",
   "execution_count": null,
   "metadata": {},
   "outputs": [],
   "source": [
    "s3.apply(np.log10)"
   ]
  },
  {
   "cell_type": "markdown",
   "metadata": {},
   "source": [
    "For longer function, we can use ```lambda``` functions. For example, if there are less than 7 available, we will add the value by 10:"
   ]
  },
  {
   "cell_type": "code",
   "execution_count": null,
   "metadata": {},
   "outputs": [],
   "source": [
    "s3.apply(lambda x: x if x>7 else x+10)"
   ]
  },
  {
   "cell_type": "markdown",
   "metadata": {},
   "source": [
    "#### 8.2 Pandas DataFrames\n",
    "- Tabular data as you would find in a spreadsheet or csv-formatted file\n",
    "- Each column is a Series, with a particular type \n",
    "- Row and column labels (df.index and df.columns)\n",
    "- Rows and columns can be indexed (accessed) by labels or position\n",
    "- Follows similar logic as NumPy: axis=0 (rows) and axis=1 (columns)"
   ]
  },
  {
   "cell_type": "code",
   "execution_count": null,
   "metadata": {},
   "outputs": [],
   "source": [
    "# Assuming we have 4 lists named dates, observers, temperature and rainfall\n",
    "dates = ['2019-06-01', '2019-06-02', '2019-06-03', '2019-06-04', '2019-06-05', '2019-06-06', \\\n",
    "         '2019-06-07', '2019-06-08', '2019-06-09', '2019-06-10']\n",
    "observers = ['Bob', 'Carol', 'Ted', 'Alice', 'Bob', 'Alice', 'Ted', 'Alice', 'Bob', 'Carol']\n",
    "temperatures = np.round(list(70 + (10.*(np.random.random(10)-0.5))), 1)\n",
    "rainfall = [0.,0.12,0.11,0.,0.51,0.43,0.02,0.,np.nan,0.32]\n"
   ]
  },
  {
   "cell_type": "code",
   "execution_count": null,
   "metadata": {},
   "outputs": [],
   "source": [
    "# Create dataframe from 4 above lists\n",
    "df = pd.DataFrame(zip(dates,observers,temperatures,rainfall),\n",
    "                   columns=['Date', 'Observer', 'Temperature', 'Rainfall'])\n",
    "print(df.dtypes)\n",
    "df"
   ]
  },
  {
   "cell_type": "code",
   "execution_count": null,
   "metadata": {},
   "outputs": [],
   "source": [
    "# Now lets get a description of the data\n",
    "df.describe()"
   ]
  },
  {
   "cell_type": "code",
   "execution_count": null,
   "metadata": {},
   "outputs": [],
   "source": [
    "df.info()"
   ]
  },
  {
   "cell_type": "code",
   "execution_count": null,
   "metadata": {},
   "outputs": [],
   "source": [
    "# Get the variable names\n",
    "df.columns"
   ]
  },
  {
   "cell_type": "code",
   "execution_count": null,
   "metadata": {},
   "outputs": [],
   "source": [
    "# Convert Date column from object to datetime format\n",
    "df['Date']=pd.to_datetime(df['Date'])\n",
    "df.dtypes"
   ]
  },
  {
   "cell_type": "code",
   "execution_count": null,
   "metadata": {},
   "outputs": [],
   "source": [
    "# Get the values from column name\n",
    "df['Temperature']"
   ]
  },
  {
   "cell_type": "code",
   "execution_count": null,
   "metadata": {},
   "outputs": [],
   "source": [
    "# sort based on some condition\n",
    "df.sort_values(by=\"Observer\")"
   ]
  },
  {
   "cell_type": "code",
   "execution_count": null,
   "metadata": {},
   "outputs": [],
   "source": [
    "# Filter rows based on condition\n",
    "df[df[\"Observer\"]==\"Alice\"]"
   ]
  },
  {
   "cell_type": "code",
   "execution_count": null,
   "metadata": {},
   "outputs": [],
   "source": [
    "# Using combinerd query for more conditions\n",
    "df.query(\"Observer=='Alice' & Temperature<71\")"
   ]
  },
  {
   "cell_type": "code",
   "execution_count": null,
   "metadata": {},
   "outputs": [],
   "source": [
    "# Or get many columns values at the same time\n",
    "df[['Date','Rainfall']]"
   ]
  },
  {
   "cell_type": "code",
   "execution_count": null,
   "metadata": {},
   "outputs": [],
   "source": [
    "# Get slicing index values for variable Temperature\n",
    "df.loc[0:5,'Temperature']"
   ]
  },
  {
   "cell_type": "code",
   "execution_count": null,
   "metadata": {},
   "outputs": [],
   "source": [
    "# Similarly, get slicing index from Dataframe for both rows and columns\n",
    "df.iloc[0:4,2:4]"
   ]
  },
  {
   "cell_type": "code",
   "execution_count": null,
   "metadata": {},
   "outputs": [],
   "source": [
    "# Get the statistic of variable using groupby and mean\n",
    "df.groupby('Observer').mean()"
   ]
  },
  {
   "cell_type": "code",
   "execution_count": null,
   "metadata": {},
   "outputs": [],
   "source": [
    "# Set the index variable\n",
    "df.set_index([\"Date\"])"
   ]
  },
  {
   "cell_type": "code",
   "execution_count": null,
   "metadata": {},
   "outputs": [],
   "source": [
    "# Create new column with new values\n",
    "df['Temp/Rainfall']=df['Temperature']/df['Rainfall']\n",
    "df"
   ]
  },
  {
   "cell_type": "code",
   "execution_count": null,
   "metadata": {},
   "outputs": [],
   "source": [
    "# Save to csv format\n",
    "df.to_csv('mydf.csv',index=False)"
   ]
  },
  {
   "cell_type": "markdown",
   "metadata": {},
   "source": [
    "#### 8.3 Loading csv data\n",
    "You can also load csv data from existing source"
   ]
  },
  {
   "cell_type": "code",
   "execution_count": null,
   "metadata": {},
   "outputs": [],
   "source": [
    "# Load CSV from online resources:\n",
    "csv_url = \"https://raw.githubusercontent.com/vuminhtue/SMU_Machine_Learning_Python/master/data/airquality.csv\"\n",
    "df1 = pd.read_csv(csv_url)\n",
    "df1.head()"
   ]
  },
  {
   "cell_type": "code",
   "execution_count": null,
   "metadata": {},
   "outputs": [],
   "source": [
    "# Load CSV from local file\n",
    "df2 = pd.read_csv(\"mydf.csv\")\n",
    "df2.head()"
   ]
  },
  {
   "cell_type": "markdown",
   "metadata": {},
   "source": [
    "## You can read from many formats\n",
    "\n",
    "The `pd` object allows you to read from various different formats including your clipboard!\n",
    "\n",
    "- read_clipboard\n",
    "- read_csv\n",
    "- read_excel\n",
    "- read_feather\n",
    "- read_fwf\n",
    "- read_gbq\n",
    "- read_hdf\n",
    "- read_html\n",
    "- read_json\n",
    "- read_orc\n",
    "- read_parquet\n",
    "- read_pickle\n",
    "- read_sas\n",
    "- read_spss\n",
    "- read_sql\n",
    "- read_sql_query\n",
    "- read_sql_table\n",
    "- read_stata\n",
    "- read_table\n",
    "- read_xml"
   ]
  },
  {
   "cell_type": "code",
   "execution_count": null,
   "metadata": {},
   "outputs": [],
   "source": []
  }
 ],
 "metadata": {
  "kernelspec": {
   "display_name": "Python 3 (ipykernel)",
   "language": "python",
   "name": "python3"
  },
  "language_info": {
   "codemirror_mode": {
    "name": "ipython",
    "version": 3
   },
   "file_extension": ".py",
   "mimetype": "text/x-python",
   "name": "python",
   "nbconvert_exporter": "python",
   "pygments_lexer": "ipython3",
   "version": "3.9.16"
  }
 },
 "nbformat": 4,
 "nbformat_minor": 4
}
