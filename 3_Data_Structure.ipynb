{
 "cells": [
  {
   "cell_type": "markdown",
   "metadata": {},
   "source": [
    "# Introduction to Python for Scientific Computing using M3\n",
    "\n",
    "## Tue Vu, PhD\n",
    "**AI & ML Research Scientist;**\n",
    " \n",
    "**Advanced Research Computing & Data Science, SMU OIT**"
   ]
  },
  {
   "cell_type": "markdown",
   "metadata": {},
   "source": [
    "### 3. Data Structures\n",
    "```List, Dictionary, Tuple, Set```\n",
    "\n",
    "#### 3.1 Lists\n",
    "- Lists are used to store multiple items in a single variable\n",
    "- In python the index starting with 0\n",
    "- Lists are written with ```[]```, separated by ```,```\n",
    "\n"
   ]
  },
  {
   "cell_type": "code",
   "execution_count": null,
   "metadata": {},
   "outputs": [],
   "source": [
    "list1 = [5,4,1]\n",
    "print(list1)\n",
    "print(list1[0])\n",
    "print(type(list1))\n"
   ]
  },
  {
   "cell_type": "code",
   "execution_count": null,
   "metadata": {},
   "outputs": [],
   "source": [
    "# lists can contain different types of items in them\n",
    "[1, \"two\", True, complex(2,3)]"
   ]
  },
  {
   "cell_type": "code",
   "execution_count": null,
   "metadata": {},
   "outputs": [],
   "source": [
    "# each item has a position called \"index\". Count starts with 0\n",
    "items = [\"puppy\", \"kitty\", \"juicy\", \"squishy\"]\n",
    "\n",
    "# retrieving an item is done with the index\n",
    "items[0]"
   ]
  },
  {
   "cell_type": "code",
   "execution_count": null,
   "metadata": {},
   "outputs": [],
   "source": [
    "# you can also retrieve the last item \n",
    "items[-1]"
   ]
  },
  {
   "cell_type": "code",
   "execution_count": null,
   "metadata": {},
   "outputs": [],
   "source": [
    "# but also use negative indexes to count from the end\n",
    "items[-2]"
   ]
  },
  {
   "cell_type": "code",
   "execution_count": null,
   "metadata": {},
   "outputs": [],
   "source": [
    "# Or slicing \n",
    "items[0:2]"
   ]
  },
  {
   "cell_type": "code",
   "execution_count": null,
   "metadata": {},
   "outputs": [],
   "source": [
    "# Adding data to list\n",
    "items.append('orange')\n",
    "print(items)"
   ]
  },
  {
   "cell_type": "code",
   "execution_count": null,
   "metadata": {},
   "outputs": [],
   "source": [
    "items = items+['lemon','ginger']\n",
    "print(items)"
   ]
  },
  {
   "cell_type": "code",
   "execution_count": null,
   "metadata": {},
   "outputs": [],
   "source": [
    "# Reomove data from list\n",
    "items.remove(\"ginger\")\n",
    "print(items)"
   ]
  },
  {
   "cell_type": "markdown",
   "metadata": {},
   "source": [
    "#### 3.2 Dictionary\n",
    "\n",
    "- Dictionaries are written with curly brackets ```{}``` and have ```keys``` and ```values``` pair separated by ```:``` and splited by ```,```\n",
    "    ```python\n",
    "    {\"key1\":\"value1\",\"key2\":\"value2\",\"key3\":\"value3\"}\n",
    "    ```\n",
    "- A dictionary is a collection which is **ordered*, changeable and do not allow duplicates**.\n",
    "    "
   ]
  },
  {
   "cell_type": "code",
   "execution_count": null,
   "metadata": {},
   "outputs": [],
   "source": [
    "# key has to be unique\n",
    "{'California':39613493,'California':39613493}"
   ]
  },
  {
   "cell_type": "code",
   "execution_count": null,
   "metadata": {},
   "outputs": [],
   "source": [
    "# values can be other dictionaries or lists\n",
    "{'Texas':[29730311,315515,6556456]}"
   ]
  },
  {
   "cell_type": "code",
   "execution_count": null,
   "metadata": {},
   "outputs": [],
   "source": [
    "dict_state_pop = {'California':39613493,'Texas':29730311,'Floria':21944577,'New York':19299981,'Pennsylvania':12804123,\n",
    "             'Illinois':12569321,'Ohio':11714618,'Georgia':10830007,'North Carolina':10701022}\n",
    "\n",
    "print(dict_state_pop)\n",
    "print(type(dict_state_pop))"
   ]
  },
  {
   "cell_type": "code",
   "execution_count": null,
   "metadata": {},
   "outputs": [],
   "source": [
    "# Get value from corresponding key\n",
    "print(dict_state_pop[\"Texas\"])"
   ]
  },
  {
   "cell_type": "code",
   "execution_count": null,
   "metadata": {},
   "outputs": [],
   "source": [
    "dict_state_pop.keys()"
   ]
  },
  {
   "cell_type": "code",
   "execution_count": null,
   "metadata": {},
   "outputs": [],
   "source": [
    "dict_state_pop.values()"
   ]
  },
  {
   "cell_type": "code",
   "execution_count": null,
   "metadata": {},
   "outputs": [],
   "source": [
    "# Create dictionary from 2 lists\n",
    "list1 = ['California',39613493]\n",
    "list2 = ['Texas',29730311]\n",
    "dict2 = dict([list1, list2])\n",
    "print(dict2)"
   ]
  },
  {
   "cell_type": "code",
   "execution_count": null,
   "metadata": {},
   "outputs": [],
   "source": [
    "# Create dictionary from key and value list using zip function\n",
    "key3 = ['California','Texas','Florida']\n",
    "value3 = [39613493,29730311,21944577]\n",
    "dict3 = dict(zip(key3,value3))\n",
    "print(dict3)"
   ]
  },
  {
   "cell_type": "code",
   "execution_count": null,
   "metadata": {},
   "outputs": [],
   "source": [
    "# Adding data to dictionary\n",
    "dict2[\"South Carolina\"]= 5120000\n",
    "print(dict2)"
   ]
  },
  {
   "cell_type": "markdown",
   "metadata": {},
   "source": [
    "#### 3.3 Set\n",
    "- Sets are used to store **multiple** items in a single variable.\n",
    "- A set is a collection which is **unordered, unchangeable, and unindexed**.\n",
    "- Sets are written with curly bracket ```{}```\n"
   ]
  },
  {
   "cell_type": "code",
   "execution_count": null,
   "metadata": {},
   "outputs": [],
   "source": [
    "set1 = {5,4,3,2,1}\n",
    "set2 = {4,5,6,7,8,9}\n",
    "print(set1)\n",
    "print(type(set1))"
   ]
  },
  {
   "cell_type": "code",
   "execution_count": null,
   "metadata": {},
   "outputs": [],
   "source": [
    "# union: merge and remove duplication\n",
    "set1.union(set2)"
   ]
  },
  {
   "cell_type": "code",
   "execution_count": null,
   "metadata": {},
   "outputs": [],
   "source": [
    "# Subtract: remove duplicated values from set 1 with set 2\n",
    "set1-set2"
   ]
  },
  {
   "cell_type": "code",
   "execution_count": null,
   "metadata": {},
   "outputs": [],
   "source": [
    "# intersection: find the common value in both sets:\n",
    "set1.intersection(set2)"
   ]
  },
  {
   "cell_type": "code",
   "execution_count": null,
   "metadata": {},
   "outputs": [],
   "source": [
    "# add item to set:\n",
    "set1.add(\"new item\")\n",
    "print(set1)"
   ]
  },
  {
   "cell_type": "code",
   "execution_count": null,
   "metadata": {},
   "outputs": [],
   "source": [
    "# remove first item using pop\n",
    "set1.pop()"
   ]
  },
  {
   "cell_type": "markdown",
   "metadata": {},
   "source": [
    "#### 3.4 Tuples\n",
    "- Tuples are used to store multiple items in a single variable.\n",
    "- Tuples are written with parenthesis ```()```\n",
    "- A tuple is a collection which is **ordered and unchangeable**.\n"
   ]
  },
  {
   "cell_type": "code",
   "execution_count": null,
   "metadata": {},
   "outputs": [],
   "source": [
    "tup1 = (1,5)\n",
    "print(tup1[1])\n",
    "print(type(tup1))"
   ]
  },
  {
   "cell_type": "code",
   "execution_count": null,
   "metadata": {},
   "outputs": [],
   "source": [
    "# index of tuple\n",
    "tup1[0]"
   ]
  },
  {
   "cell_type": "code",
   "execution_count": null,
   "metadata": {},
   "outputs": [],
   "source": [
    "# Tuple is unchangable, this will cause an error\n",
    "tup1[1]=10"
   ]
  }
 ],
 "metadata": {
  "kernelspec": {
   "display_name": "Python 3 (ipykernel)",
   "language": "python",
   "name": "python3"
  },
  "language_info": {
   "codemirror_mode": {
    "name": "ipython",
    "version": 3
   },
   "file_extension": ".py",
   "mimetype": "text/x-python",
   "name": "python",
   "nbconvert_exporter": "python",
   "pygments_lexer": "ipython3",
   "version": "3.9.16"
  }
 },
 "nbformat": 4,
 "nbformat_minor": 4
}
