{
 "cells": [
  {
   "cell_type": "markdown",
   "metadata": {},
   "source": [
    "# Introduction to Python for Scientific Computing using M3\n",
    "\n",
    "## Tue Vu, PhD\n",
    "**AI & ML Research Scientist;**\n",
    " \n",
    "**Advanced Research Computing & Data Science, SMU OIT**\n"
   ]
  },
  {
   "cell_type": "markdown",
   "metadata": {},
   "source": [
    "### 5. Functions & Class\n",
    "#### 5.1 Function\n",
    "\n",
    "A function is a set of scripts organized together to carry out a specific task. Writing efficient functions is an important skill that can significantly improve the productivity of data scientists and data science solutions. In this guide, you will learn the basics of writing a function and the types of functions, which will enable you perform analytical tasks more efficiently.\n",
    "\n",
    "**Syntax:**\n",
    "\n",
    "    def name_of_function ( ⟨ arguments ⟩ ):\n",
    "        # function body, indented consistently   \n",
    "        return result  # result is returned when this statement is encountered\n",
    "\n",
    "* the keyword ```def``` indicates a function definition\n",
    "* the type of neither the inputs nor the output are declared\n",
    "* the argument variables are internal to the function\n",
    "* if there is no return statement, the function returns the object ```None```\n",
    "* any variables defined within the function body are not accessible outside the function\n",
    "* function is called using the parentheses operator ```()```\n"
   ]
  },
  {
   "cell_type": "code",
   "execution_count": null,
   "metadata": {},
   "outputs": [],
   "source": [
    "def callme():\n",
    "    print('Hello')\n",
    "\n",
    "callme()"
   ]
  },
  {
   "cell_type": "code",
   "execution_count": null,
   "metadata": {},
   "outputs": [],
   "source": [
    "def f(a,b,c):\n",
    "    x = a + b//6 + 300%c\n",
    "    return x\n",
    "\n",
    "f(10,52,31)"
   ]
  },
  {
   "cell_type": "code",
   "execution_count": null,
   "metadata": {},
   "outputs": [],
   "source": [
    "# Function with optional argument c\n",
    "def f(a,b,c=20):\n",
    "    x = a + b//6 + 300%c\n",
    "    return x\n",
    "\n",
    "f(10,52)"
   ]
  },
  {
   "cell_type": "markdown",
   "metadata": {},
   "source": [
    "##### Variable arguments\n",
    "Also called _var args_. Are arguments that do not have any defaults"
   ]
  },
  {
   "cell_type": "code",
   "execution_count": null,
   "metadata": {},
   "outputs": [],
   "source": [
    "# This function can take 0 or more arguments: args\n",
    "\n",
    "def my_friend_name(*args):\n",
    "    for name in args:\n",
    "        print(name)\n",
    "              \n",
    "my_friend_name(\"Tom\",\"Justin\",\"Donald\")"
   ]
  },
  {
   "cell_type": "code",
   "execution_count": null,
   "metadata": {},
   "outputs": [],
   "source": [
    "# It can be called with no argument\n",
    "my_friend_name()"
   ]
  },
  {
   "cell_type": "markdown",
   "metadata": {},
   "source": [
    "##### Variable keyword arguments - kwargs\n",
    "These are arguments that are mapped to a value (key and value, like a dictionary). The premise of how this works is the same as variable arguments, and the syntax is slightly different."
   ]
  },
  {
   "cell_type": "code",
   "execution_count": null,
   "metadata": {},
   "outputs": [],
   "source": [
    "def dict_sample(**kwargs):\n",
    "    # kwargs is now a dictionary\n",
    "    for key, value in kwargs.items():\n",
    "        print(key, \"-->\", value)\n",
    "        \n",
    "dict_sample(sign=\"stop\", speed=30, deactivate=True)"
   ]
  },
  {
   "cell_type": "markdown",
   "metadata": {},
   "source": [
    "#### 5.2 Class\n",
    "In Python, classes represents one of the most important type of constructs you'll work with alongside functions. In most cases, classes are very similar to functions in how they are created but they do have some difference.\n"
   ]
  },
  {
   "cell_type": "code",
   "execution_count": null,
   "metadata": {},
   "outputs": [],
   "source": [
    "# The most basic Class:\n",
    "class Basic:\n",
    "    pass\n",
    "basic=Basic()"
   ]
  },
  {
   "cell_type": "code",
   "execution_count": null,
   "metadata": {},
   "outputs": [],
   "source": [
    "# use dir() to find about what is available in a class\n",
    "dir(basic)"
   ]
  },
  {
   "cell_type": "code",
   "execution_count": null,
   "metadata": {},
   "outputs": [],
   "source": [
    "# classes in general are good when grouping code and behavior that can be reused\n",
    "# That type of grouping and behavior is not possible with functions for example\n",
    "# In method and classes, ```\"self\"``` is convention (not mandatory)\n",
    "class Kitty:\n",
    "    is_pet = True\n",
    "\n",
    "    def meow(self):\n",
    "        print(\"meow!\")\n",
    "\n",
    "k = Kitty()"
   ]
  },
  {
   "cell_type": "code",
   "execution_count": null,
   "metadata": {},
   "outputs": [],
   "source": [
    "k.meow()\n",
    "k.is_pet\n"
   ]
  },
  {
   "cell_type": "markdown",
   "metadata": {},
   "source": [
    "#### Class inheritance\n",
    "You might come across inheritance when working with Python. What it means is that a base (or parent) class can be a scaffold for a another (child) class. It helps when trying to have many methods and many basic behavior and avoid boilerplate code.\n",
    "\n",
    "It is useful when you need to create many classes that share the same behavior."
   ]
  },
  {
   "cell_type": "code",
   "execution_count": null,
   "metadata": {},
   "outputs": [],
   "source": [
    "# create a base class for house pets\n",
    "class Pet:\n",
    "    def eat(self):\n",
    "        self.food = self.food - self.appetite\n",
    "        print(f\"Ate {self.appetite} of food, have {self.food} left\")"
   ]
  },
  {
   "cell_type": "code",
   "execution_count": null,
   "metadata": {},
   "outputs": [],
   "source": [
    "# create to child classes for other house pets like cat and dog and parakeet\n",
    "\n",
    "class Parakeet(Pet):\n",
    "    def __init__(self):\n",
    "        self.food = 50\n",
    "        self.appetite = 2\n",
    "\n",
    "class Dog(Pet):\n",
    "    def __init__(self):\n",
    "        self.food = 200\n",
    "        self.appetite = 6\n",
    "\n",
    "po = Parakeet()\n",
    "mia = Dog()\n"
   ]
  },
  {
   "cell_type": "code",
   "execution_count": null,
   "metadata": {},
   "outputs": [],
   "source": [
    "po.eat()\n",
    "mia.eat()"
   ]
  },
  {
   "cell_type": "markdown",
   "metadata": {},
   "source": [
    "#### Class with two methods"
   ]
  },
  {
   "cell_type": "code",
   "execution_count": null,
   "metadata": {},
   "outputs": [],
   "source": [
    "class Budget:\n",
    "\n",
    "    def __init__(self, budget):\n",
    "        self.budget = budget\n",
    "\n",
    "    def expense(self, amount):\n",
    "        self.budget = self.budget - amount\n",
    "        print(f\"Budget left: {self.budget}\")\n",
    "        \n",
    "      "
   ]
  },
  {
   "cell_type": "code",
   "execution_count": null,
   "metadata": {},
   "outputs": [],
   "source": [
    "# Get the report of what has left\n",
    "budget = Budget(50)  \n",
    "budget.expense(23)"
   ]
  },
  {
   "cell_type": "markdown",
   "metadata": {},
   "source": [
    "#### Class with 3 or more methods"
   ]
  },
  {
   "cell_type": "code",
   "execution_count": null,
   "metadata": {},
   "outputs": [],
   "source": [
    "class Budget:\n",
    "\n",
    "    def __init__(self, budget):\n",
    "        self.budget = budget\n",
    "\n",
    "    def expense(self, amount):\n",
    "        self.budget = self.budget - amount\n",
    "        self.report()\n",
    "        \n",
    "    def report(self):\n",
    "        print(f\"Budget left: {self.budget}\")\n"
   ]
  },
  {
   "cell_type": "code",
   "execution_count": null,
   "metadata": {},
   "outputs": [],
   "source": [
    "# Get the report of what has left\n",
    "budget = Budget(200)  \n",
    "budget.expense(150)"
   ]
  },
  {
   "cell_type": "code",
   "execution_count": null,
   "metadata": {},
   "outputs": [],
   "source": []
  }
 ],
 "metadata": {
  "kernelspec": {
   "display_name": "Python 3 (ipykernel)",
   "language": "python",
   "name": "python3"
  },
  "language_info": {
   "codemirror_mode": {
    "name": "ipython",
    "version": 3
   },
   "file_extension": ".py",
   "mimetype": "text/x-python",
   "name": "python",
   "nbconvert_exporter": "python",
   "pygments_lexer": "ipython3",
   "version": "3.9.16"
  }
 },
 "nbformat": 4,
 "nbformat_minor": 4
}
