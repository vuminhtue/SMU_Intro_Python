{
 "cells": [
  {
   "cell_type": "markdown",
   "metadata": {},
   "source": [
    "# Introduction to Python for Scientific Computing using M3\n",
    "\n",
    "## Tue Vu, PhD\n",
    "**AI & ML Research Scientist;**\n",
    " \n",
    "**Advanced Research Computing & Data Science, SMU OIT**"
   ]
  },
  {
   "cell_type": "markdown",
   "metadata": {},
   "source": [
    "### 4. Control structure\n",
    "- ```if```, ```if else```, ```if elif else```\n",
    "- ```for loop```\n",
    "- ```while loop```\n",
    "- ```break``` and ```continue```\n",
    "\n",
    "Note: indentation is sensitive in python"
   ]
  },
  {
   "cell_type": "markdown",
   "metadata": {},
   "source": [
    "#### if:\n",
    "    if condition:\n",
    "        statementA        "
   ]
  },
  {
   "cell_type": "code",
   "execution_count": null,
   "metadata": {},
   "outputs": [],
   "source": [
    "a = 5\n",
    "if (a>3):\n",
    "    print(\"a is bigger than 3\")\n"
   ]
  },
  {
   "cell_type": "markdown",
   "metadata": {},
   "source": [
    "#### if/else\n",
    "\n",
    "    if condition:\n",
    "        statementA\n",
    "    else:\n",
    "        statementB\n",
    "    \n",
    "\n"
   ]
  },
  {
   "cell_type": "code",
   "execution_count": null,
   "metadata": {},
   "outputs": [],
   "source": [
    "a = 2\n",
    "if (a>3):\n",
    "    print(\"a is bigger than 3\")\n",
    "else:\n",
    "    print(\"a is NOT bigger than 3\")"
   ]
  },
  {
   "cell_type": "markdown",
   "metadata": {},
   "source": [
    "#### if/elif/else\n",
    "\n",
    "    if conditionA:\n",
    "        statementA\n",
    "    elif conditionB:\n",
    "        statementB\n",
    "    else:\n",
    "        statementC\n",
    "    "
   ]
  },
  {
   "cell_type": "code",
   "execution_count": null,
   "metadata": {},
   "outputs": [],
   "source": [
    "a =3\n",
    "if (a>3):\n",
    "    print(\"a is bigger than 3\")\n",
    "elif (a==3):\n",
    "    print(\"a equals to 3\")\n",
    "else:\n",
    "    print(\"a is less than 3\")\n"
   ]
  },
  {
   "cell_type": "markdown",
   "metadata": {},
   "source": [
    "#### Negative conditions with ```not```\n",
    "\n",
    "    if not conditionA:\n",
    "        statementB    "
   ]
  },
  {
   "cell_type": "code",
   "execution_count": null,
   "metadata": {},
   "outputs": [],
   "source": [
    "Visitor = False\n",
    "if not Visitor:\n",
    "    print(\"There is no Visitor\")"
   ]
  },
  {
   "cell_type": "markdown",
   "metadata": {},
   "source": [
    "#### Compounding conditions with ```and```\n",
    "\n",
    "    if conditionA and conditionB:\n",
    "        statement    "
   ]
  },
  {
   "cell_type": "code",
   "execution_count": null,
   "metadata": {},
   "outputs": [],
   "source": [
    "happy = True\n",
    "friendly = True\n",
    "\n",
    "if happy and friendly:\n",
    "    print(\"Mary is happy and friendly\")"
   ]
  },
  {
   "cell_type": "markdown",
   "metadata": {},
   "source": [
    "#### For loop\n",
    "    for (iterator in sequence):\n",
    "        do task\n",
    "    \n",
    "range(): is a built-in function that constructs an iterable object that produces a sequence of integers, and is very useful for loops based on simple counting.    "
   ]
  },
  {
   "cell_type": "code",
   "execution_count": null,
   "metadata": {},
   "outputs": [],
   "source": [
    "# Loop over the range\n",
    "for i in range(1,5):\n",
    "    print(i)"
   ]
  },
  {
   "cell_type": "code",
   "execution_count": null,
   "metadata": {},
   "outputs": [],
   "source": [
    "# Loop over dictionary\n",
    "dict_state_pop = {'California':39613493,'Texas':29730311,'Floria':21944577,'New York':19299981,'Pennsylvania':12804123,\n",
    "             'Illinois':12569321,'Ohio':11714618,'Georgia':10830007,'North Carolina':10701022}\n",
    "\n",
    "for state in dict_state_pop:\n",
    "    print(state + \" state population is \"+ str(dict_state_pop[state]))"
   ]
  },
  {
   "cell_type": "code",
   "execution_count": null,
   "metadata": {},
   "outputs": [],
   "source": [
    "for key, value in dict_state_pop.items():\n",
    "    print(f\"{key} --> {value}\")"
   ]
  },
  {
   "cell_type": "code",
   "execution_count": null,
   "metadata": {},
   "outputs": [],
   "source": [
    "# Loop over the list\n",
    "\n",
    "items = [\"puppy\", \"kitty\", \"juicy\", \"squishy\"]\n",
    "for item in items:\n",
    "    print(item)"
   ]
  },
  {
   "cell_type": "markdown",
   "metadata": {},
   "source": [
    "#### While loop\n",
    "    while (this condition is true):\n",
    "          do a thing\n",
    "          increase in step\n"
   ]
  },
  {
   "cell_type": "code",
   "execution_count": null,
   "metadata": {},
   "outputs": [],
   "source": [
    "a=1\n",
    "while (a<5):\n",
    "    print(a)\n",
    "    a+=1"
   ]
  },
  {
   "cell_type": "markdown",
   "metadata": {},
   "source": [
    "#### break / continue\n",
    "\n",
    "* **break** - jump out of a loop completely and go to the next statement\n",
    "* **continue** - skip the rest of the statements in the loop and return to the beginning of the loop for the next iteration\n"
   ]
  },
  {
   "cell_type": "code",
   "execution_count": null,
   "metadata": {},
   "outputs": [],
   "source": [
    "for val in \"hello world\":\n",
    "    if val == \"o\":\n",
    "        break\n",
    "    print(val)"
   ]
  },
  {
   "cell_type": "code",
   "execution_count": null,
   "metadata": {},
   "outputs": [],
   "source": [
    "for val in \"hello world\":\n",
    "    if val == \"o\":\n",
    "        continue\n",
    "    print(val)"
   ]
  },
  {
   "cell_type": "markdown",
   "metadata": {},
   "source": [
    "#### Exception in Python\n",
    "When there is error/exception in the data and you want to ignore it is a better idea to let that exception get raised and break the program."
   ]
  },
  {
   "cell_type": "code",
   "execution_count": null,
   "metadata": {},
   "outputs": [],
   "source": [
    "# Exception from python: you will have division by 0 error\n",
    "5/0"
   ]
  },
  {
   "cell_type": "code",
   "execution_count": null,
   "metadata": {},
   "outputs": [],
   "source": [
    "# generating an exception with your own code\n",
    "raise RuntimeError(\"this is an error!\")"
   ]
  },
  {
   "cell_type": "markdown",
   "metadata": {},
   "source": [
    "You can catch an exception using ```try``` and ```except``` keywords"
   ]
  },
  {
   "cell_type": "code",
   "execution_count": null,
   "metadata": {},
   "outputs": [],
   "source": [
    "# If you know the name of exception\n",
    "try:\n",
    "    div1 = 5/0    \n",
    "except ZeroDivisionError:\n",
    "    div1 = 5/5\n",
    "print(div1)"
   ]
  },
  {
   "cell_type": "code",
   "execution_count": null,
   "metadata": {},
   "outputs": [],
   "source": [
    "# If you dont know the name of exception:\n",
    "try:    \n",
    "    div1 = 5 / 0\n",
    "    raise RuntimeError(\"error!\") \n",
    "except Exception:\n",
    "    # do some other intense operation\n",
    "    div1 = 5 / 2\n",
    "\n",
    "print(div1)"
   ]
  },
  {
   "cell_type": "code",
   "execution_count": null,
   "metadata": {},
   "outputs": [],
   "source": []
  }
 ],
 "metadata": {
  "kernelspec": {
   "display_name": "Python 3 (ipykernel)",
   "language": "python",
   "name": "python3"
  },
  "language_info": {
   "codemirror_mode": {
    "name": "ipython",
    "version": 3
   },
   "file_extension": ".py",
   "mimetype": "text/x-python",
   "name": "python",
   "nbconvert_exporter": "python",
   "pygments_lexer": "ipython3",
   "version": "3.9.16"
  }
 },
 "nbformat": 4,
 "nbformat_minor": 4
}
