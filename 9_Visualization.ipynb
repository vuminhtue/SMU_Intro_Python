{
 "cells": [
  {
   "cell_type": "markdown",
   "metadata": {},
   "source": [
    "### 9. Visualization\n",
    "There are many different packages providing plotting system for Python.\n",
    "\n",
    "- The core plotting package is Matplotlib, introduced in 2003 and gives you more control over your plots\n",
    "- Seaborn is an abstraction layer on top of Matplotlib; You can write a shorter code but having a nicer plot than Matplotlib. Seaborn can be compared to ggplot2 in R.\n",
    "- Other: Plotly, Bokeh, Altair, Pygal and their discussion can be found [here](https://opensource.com/article/20/4/plot-data-python)"
   ]
  },
  {
   "cell_type": "markdown",
   "metadata": {},
   "source": [
    "#### How to display plot in Jupyter Notebook\n",
    "You can visualize plot in Jupyter Notebook using ```%matplotlib notebook``` or ```%matplotlib inline``` inline magic commands.\n",
    "\n"
   ]
  },
  {
   "cell_type": "code",
   "execution_count": null,
   "metadata": {},
   "outputs": [],
   "source": [
    "%matplotlib inline\n",
    "\n",
    "import matplotlib.pyplot as plt\n",
    "plt.plot(1,2,'*')"
   ]
  },
  {
   "cell_type": "markdown",
   "metadata": {},
   "source": [
    "Plot parameter:\n",
    "* ```plt```: state-based plotting interface similar to MATLAB\n",
    "* data-plotting functions: <code>plt.plot(), plt.bar(), plt.scatter(), plt.hist(), etc.</code>\n",
    "* plot-customization functions: <code>plt.xlim(), plt.ylim(), plt.xlabel(), plt.ylabel(), plt.title(), etc.</code>\n",
    "* depending on configuration, may need to issue <code>plt.show()</code> to get plot to appear"
   ]
  },
  {
   "cell_type": "markdown",
   "metadata": {},
   "source": [
    "#### More control over plot using Matplotlib\n"
   ]
  },
  {
   "cell_type": "code",
   "execution_count": null,
   "metadata": {},
   "outputs": [],
   "source": [
    "# Design the plot\n",
    "plt.figure()\n",
    "\n",
    "# Start plotting\n",
    "plt.plot(1,2,'o')\n",
    "plt.plot(2,3,'*')\n",
    "plt.plot(3,4,\"s\")\n",
    "\n",
    "# Label and Title:\n",
    "plt.xlabel('X Label')\n",
    "plt.ylabel('Y Label')\n",
    "plt.title('Title')\n",
    "\n",
    "# Get current axes\n",
    "ax = plt.gca()\n",
    "#Set axis property to range (0, 5)\n",
    "ax.axis([0,5,0,5])"
   ]
  },
  {
   "cell_type": "markdown",
   "metadata": {},
   "source": [
    "#### Subplot "
   ]
  },
  {
   "cell_type": "code",
   "execution_count": null,
   "metadata": {},
   "outputs": [],
   "source": [
    "plt.subplot(2,2,1)\n",
    "plt.plot(1,2,'o')\n",
    "plt.plot(2,3,'*')\n",
    "plt.plot(3,4,\"s\")\n",
    "\n",
    "plt.subplot(2,2,2)\n",
    "plt.plot(1,2,'o')\n",
    "plt.plot(2,3,'*')\n",
    "plt.plot(3,4,\"s\")\n",
    "\n",
    "plt.subplot(2,2,3)\n",
    "plt.plot(1,2,'o')\n",
    "plt.plot(2,3,'*')\n",
    "plt.plot(3,4,\"s\")\n",
    "\n",
    "plt.subplot(2,2,4)\n",
    "plt.plot(1,2,'o')\n",
    "plt.plot(2,3,'*')\n",
    "plt.plot(3,4,\"s\")"
   ]
  },
  {
   "cell_type": "markdown",
   "metadata": {},
   "source": [
    "#### Plotting from Pandas DataFrame"
   ]
  },
  {
   "cell_type": "code",
   "execution_count": null,
   "metadata": {},
   "outputs": [],
   "source": [
    "import pandas as pd\n",
    "df = pd.read_csv('https://raw.githubusercontent.com/vuminhtue/SMU_Python_Visualization/master/data/mpg.csv')\n",
    "df.head()"
   ]
  },
  {
   "cell_type": "code",
   "execution_count": null,
   "metadata": {},
   "outputs": [],
   "source": [
    "df.plot.scatter(x='hwy',y='cty')"
   ]
  },
  {
   "cell_type": "code",
   "execution_count": null,
   "metadata": {},
   "outputs": [],
   "source": [
    "df.plot.scatter(x='hwy',y='cty',color='r',marker=\"s\")\n"
   ]
  },
  {
   "cell_type": "markdown",
   "metadata": {},
   "source": [
    "## Using Seaborn"
   ]
  },
  {
   "cell_type": "code",
   "execution_count": null,
   "metadata": {},
   "outputs": [],
   "source": [
    "#!pip install seaborn\n",
    "import seaborn as sns\n",
    "print(sns.__version__)"
   ]
  },
  {
   "cell_type": "markdown",
   "metadata": {},
   "source": [
    "#### Scatter plot"
   ]
  },
  {
   "cell_type": "code",
   "execution_count": null,
   "metadata": {},
   "outputs": [],
   "source": [
    "%matplotlib inline\n",
    "ax = sns.scatterplot(x=\"hwy\",y=\"cty\",hue=\"cyl\",size=\"cyl\",data=df,palette=\"Spectral\")\n",
    "ax.set(xlabel='Highway (mpg)',\n",
    "       ylabel='City (mpg)',\n",
    "       title='Highway vs City Fuel Consumption')"
   ]
  },
  {
   "cell_type": "code",
   "execution_count": null,
   "metadata": {},
   "outputs": [],
   "source": [
    "ax = sns.lmplot(x=\"hwy\",y=\"cty\",hue=\"cyl\", markers=[\"o\", \"x\",\"s\",\"*\"],data=df)\n",
    "ax.set(xlabel='Highway (mpg)',\n",
    "       ylabel='City (mpg)',\n",
    "       title='Highway vs City Fuel Consumption')"
   ]
  },
  {
   "cell_type": "markdown",
   "metadata": {},
   "source": [
    "#### Boxplot"
   ]
  },
  {
   "cell_type": "code",
   "execution_count": null,
   "metadata": {},
   "outputs": [],
   "source": [
    "ax = sns.boxplot(x=\"hwy\",y=\"manufacturer\",data=df)\n",
    "ax = sns.stripplot(x=\"hwy\",y=\"manufacturer\",data=df,color=\"black\")\n",
    "ax.set(ylabel='Manufacturer',\n",
    "       xlabel='Highway milage',\n",
    "       title='Boxplot for Hwy per manufacturer')\n",
    "ax.grid()   "
   ]
  },
  {
   "cell_type": "markdown",
   "metadata": {},
   "source": [
    "#### Violin plot\n"
   ]
  },
  {
   "cell_type": "code",
   "execution_count": null,
   "metadata": {},
   "outputs": [],
   "source": [
    "ax = sns.violinplot(x=\"class\",y=\"cty\",data=df)\n",
    "ax.set(xlabel='Class of Vehicle',\n",
    "      ylabel='City mileage',\n",
    "       title='Violin plot for City mileage with Class of Vehicle')\n",
    "ax.grid()"
   ]
  },
  {
   "cell_type": "markdown",
   "metadata": {},
   "source": [
    "#### Histogram"
   ]
  },
  {
   "cell_type": "code",
   "execution_count": null,
   "metadata": {},
   "outputs": [],
   "source": [
    "ax = sns.histplot(x=\"displ\", bins=9, hue=\"class\", data=df,palette = \"bright\")\n",
    "ax.set(xlabel='Engine Displacement',\n",
    "       ylabel='Frequency Count',\n",
    "       title='Histogram with fixed bins')"
   ]
  },
  {
   "cell_type": "markdown",
   "metadata": {},
   "source": [
    "#### Jointplot"
   ]
  },
  {
   "cell_type": "code",
   "execution_count": null,
   "metadata": {},
   "outputs": [],
   "source": [
    "sns.jointplot(data = df,x = \"hwy\", y = \"cty\", kind=\"hex\")\n"
   ]
  },
  {
   "cell_type": "code",
   "execution_count": null,
   "metadata": {},
   "outputs": [],
   "source": [
    "sns.jointplot(data=df,x=\"hwy\", y=\"cty\",hue=\"cyl\",palette=\"Spectral\")\n"
   ]
  },
  {
   "cell_type": "markdown",
   "metadata": {},
   "source": [
    "#### Heatmap\n"
   ]
  },
  {
   "cell_type": "code",
   "execution_count": null,
   "metadata": {},
   "outputs": [],
   "source": [
    "df1 = df.groupby(['manufacturer','cyl'])['hwy'].mean().reset_index()\n"
   ]
  },
  {
   "cell_type": "code",
   "execution_count": null,
   "metadata": {},
   "outputs": [],
   "source": [
    "df1 = df1.pivot('manufacturer','cyl',\"hwy\")\n"
   ]
  },
  {
   "cell_type": "code",
   "execution_count": null,
   "metadata": {},
   "outputs": [],
   "source": [
    "import matplotlib.pyplot as plt\n",
    "sns.heatmap(df1,annot=True,cmap='rocket_r')\n",
    "plt.title(\"Fuel consumption by manufacturer and its cylinder\")\n",
    "plt.xlabel(\"Cylinder\")\n",
    "plt.ylabel(\"Cylinder\")"
   ]
  },
  {
   "cell_type": "code",
   "execution_count": null,
   "metadata": {},
   "outputs": [],
   "source": [
    "g=sns.FacetGrid(df,col='cyl',hue=\"manufacturer\")\n",
    "g.map(sns.scatterplot, \"hwy\",\"cty\",alpha=.8)\n",
    "\n"
   ]
  },
  {
   "cell_type": "code",
   "execution_count": null,
   "metadata": {},
   "outputs": [],
   "source": [
    "g=sns.FacetGrid(df,col='cyl',hue=\"manufacturer\")\n",
    "g.map(sns.barplot, \"hwy\",\"cty\",alpha=.8)"
   ]
  },
  {
   "cell_type": "code",
   "execution_count": null,
   "metadata": {},
   "outputs": [],
   "source": [
    "df"
   ]
  },
  {
   "cell_type": "code",
   "execution_count": null,
   "metadata": {},
   "outputs": [],
   "source": [
    "g = sns.PairGrid(df, hue=\"cyl\")\n",
    "g.map_diag(sns.histplot)\n",
    "g.map_offdiag(sns.scatterplot)\n",
    "g.add_legend()"
   ]
  },
  {
   "cell_type": "code",
   "execution_count": null,
   "metadata": {},
   "outputs": [],
   "source": []
  }
 ],
 "metadata": {
  "kernelspec": {
   "display_name": "ML_SKLN",
   "language": "python",
   "name": "ml_skln"
  },
  "language_info": {
   "codemirror_mode": {
    "name": "ipython",
    "version": 3
   },
   "file_extension": ".py",
   "mimetype": "text/x-python",
   "name": "python",
   "nbconvert_exporter": "python",
   "pygments_lexer": "ipython3",
   "version": "3.9.16"
  }
 },
 "nbformat": 4,
 "nbformat_minor": 4
}
